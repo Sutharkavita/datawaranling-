{
 "cells": [
  {
   "cell_type": "code",
   "execution_count": 1,
   "id": "297bcecb-2272-491e-bb7b-dfe8f6e268bd",
   "metadata": {},
   "outputs": [],
   "source": [
    "import numpy as np"
   ]
  },
  {
   "cell_type": "code",
   "execution_count": 2,
   "id": "120c31fc-747a-4d0b-aefe-09b458683615",
   "metadata": {},
   "outputs": [
    {
     "data": {
      "text/plain": [
       "array([1, 2, 3])"
      ]
     },
     "execution_count": 2,
     "metadata": {},
     "output_type": "execute_result"
    }
   ],
   "source": [
    "arr1 = np.array([1, 2, 3])\n",
    "arr1"
   ]
  },
  {
   "cell_type": "code",
   "execution_count": 3,
   "id": "fde013bb-b8e6-400a-b5b3-e799f2bb3199",
   "metadata": {},
   "outputs": [
    {
     "data": {
      "text/plain": [
       "array([[0., 0., 0.],\n",
       "       [0., 0., 0.]])"
      ]
     },
     "execution_count": 3,
     "metadata": {},
     "output_type": "execute_result"
    }
   ],
   "source": [
    "arr2 = np.zeros((2, 3))\n",
    "arr2"
   ]
  },
  {
   "cell_type": "code",
   "execution_count": 4,
   "id": "0ebcdb43-5175-4e9d-b952-015d0dd76af8",
   "metadata": {},
   "outputs": [
    {
     "data": {
      "text/plain": [
       "array([[0., 0., 0.],\n",
       "       [0., 0., 0.]])"
      ]
     },
     "execution_count": 4,
     "metadata": {},
     "output_type": "execute_result"
    }
   ],
   "source": [
    "arr3 = np.zeros((2, 3))\n",
    "arr3"
   ]
  },
  {
   "cell_type": "code",
   "execution_count": 5,
   "id": "c8e45e91-bc97-4871-b079-e86ccda6d79b",
   "metadata": {},
   "outputs": [
    {
     "data": {
      "text/plain": [
       "array([[1., 1., 1.],\n",
       "       [1., 1., 1.]])"
      ]
     },
     "execution_count": 5,
     "metadata": {},
     "output_type": "execute_result"
    }
   ],
   "source": [
    "arr4 = np.ones((2, 3))\n",
    "arr4"
   ]
  },
  {
   "cell_type": "code",
   "execution_count": 6,
   "id": "96169940-6132-4da5-9dc3-4e6f68f04048",
   "metadata": {},
   "outputs": [
    {
     "data": {
      "text/plain": [
       "array([0, 2, 4, 6, 8])"
      ]
     },
     "execution_count": 6,
     "metadata": {},
     "output_type": "execute_result"
    }
   ],
   "source": [
    "arr5 = np.arange(0, 10, 2) \n",
    "arr5"
   ]
  },
  {
   "cell_type": "code",
   "execution_count": 7,
   "id": "67135637-c28e-420f-b3d3-9dcd7db42d00",
   "metadata": {},
   "outputs": [
    {
     "data": {
      "text/plain": [
       "array([ 0. ,  2.5,  5. ,  7.5, 10. ])"
      ]
     },
     "execution_count": 7,
     "metadata": {},
     "output_type": "execute_result"
    }
   ],
   "source": [
    "arr6 = np.linspace(0, 10, 5) \n",
    "arr6"
   ]
  },
  {
   "cell_type": "code",
   "execution_count": 8,
   "id": "c0f80941-328e-40a6-ab42-04ffd4fbaec7",
   "metadata": {},
   "outputs": [
    {
     "data": {
      "text/plain": [
       "array([[0.25056932, 0.44363636],\n",
       "       [0.28761186, 0.29100057],\n",
       "       [0.36293983, 0.88872033]])"
      ]
     },
     "execution_count": 8,
     "metadata": {},
     "output_type": "execute_result"
    }
   ],
   "source": [
    "arr7 = np.random.rand(3, 2) #(3,2) is number of rows and columns\n",
    "#generates random number between 0 and 1\n",
    "arr7"
   ]
  },
  {
   "cell_type": "code",
   "execution_count": 9,
   "id": "f6015f18-b0c0-4701-8887-07f2f4c8d74a",
   "metadata": {},
   "outputs": [
    {
     "data": {
      "text/plain": [
       "2"
      ]
     },
     "execution_count": 9,
     "metadata": {},
     "output_type": "execute_result"
    }
   ],
   "source": [
    "arr8 = np.random.randint(2,3) \n",
    "arr8"
   ]
  },
  {
   "cell_type": "code",
   "execution_count": 10,
   "id": "5881dcf8-c014-40b5-85c9-ce47f016b89f",
   "metadata": {},
   "outputs": [
    {
     "data": {
      "text/plain": [
       "(3,)"
      ]
     },
     "execution_count": 10,
     "metadata": {},
     "output_type": "execute_result"
    }
   ],
   "source": [
    "#arr1=[1,2,3]\n",
    "arr1.shape"
   ]
  },
  {
   "cell_type": "code",
   "execution_count": 24,
   "id": "15231050-3698-4458-a146-49765ef3f7f3",
   "metadata": {},
   "outputs": [
    {
     "data": {
      "text/plain": [
       "1"
      ]
     },
     "execution_count": 24,
     "metadata": {},
     "output_type": "execute_result"
    }
   ],
   "source": [
    "arr1.ndim"
   ]
  },
  {
   "cell_type": "code",
   "execution_count": 28,
   "id": "e9a301df-df7b-4620-a603-17c6a3bd75c5",
   "metadata": {},
   "outputs": [
    {
     "data": {
      "text/plain": [
       "3"
      ]
     },
     "execution_count": 28,
     "metadata": {},
     "output_type": "execute_result"
    }
   ],
   "source": [
    "arr1.size\n"
   ]
  },
  {
   "cell_type": "code",
   "execution_count": 32,
   "id": "fff6bf1d-ec7e-4ce8-a937-a136a1a4132d",
   "metadata": {},
   "outputs": [
    {
     "data": {
      "text/plain": [
       "dtype('int32')"
      ]
     },
     "execution_count": 32,
     "metadata": {},
     "output_type": "execute_result"
    }
   ],
   "source": [
    "arr1.dtype"
   ]
  },
  {
   "cell_type": "code",
   "execution_count": 36,
   "id": "a9f9eab4-c218-46d9-a09f-d54627b917ff",
   "metadata": {},
   "outputs": [
    {
     "data": {
      "text/plain": [
       "array([[1, 2, 3],\n",
       "       [4, 5, 6]])"
      ]
     },
     "execution_count": 36,
     "metadata": {},
     "output_type": "execute_result"
    }
   ],
   "source": [
    "arr = np.array([1, 2, 3, 4, 5, 6])\n",
    "newshape = arr.reshape(2, 3) \n",
    "newshape\n"
   ]
  },
  {
   "cell_type": "code",
   "execution_count": 40,
   "id": "dd2755e1-fc9c-4a22-945c-887076fdec47",
   "metadata": {},
   "outputs": [
    {
     "data": {
      "text/plain": [
       "array([1, 2, 3, 4, 5, 6])"
      ]
     },
     "execution_count": 40,
     "metadata": {},
     "output_type": "execute_result"
    }
   ],
   "source": [
    "arr = np.transpose(arr)\n",
    "arr"
   ]
  },
  {
   "cell_type": "code",
   "execution_count": 42,
   "id": "9ddf9abf-8947-4f81-af11-00cd22197d9c",
   "metadata": {},
   "outputs": [],
   "source": [
    "one = np.array([1, 2, 3])\n",
    "two = np.array([4, 5, 6])\n",
    "addfunc = np.add(one, two)  \n",
    "subfunc= np.subtract(one,two)\n",
    "multfunc= np.multiply(one,two)\n",
    "divfunc= np.divide(one,two)\n",
    "powfunc=np.power(one,two)"
   ]
  },
  {
   "cell_type": "code",
   "execution_count": 46,
   "id": "dbfc45fb-a737-4197-9768-5f09b981ccd9",
   "metadata": {},
   "outputs": [
    {
     "name": "stdout",
     "output_type": "stream",
     "text": [
      "[5 7 9]\n",
      "[-3 -3 -3]\n",
      "[ 4 10 18]\n",
      "[0.25 0.4  0.5 ]\n",
      "[  1  32 729]\n"
     ]
    }
   ],
   "source": [
    "print(addfunc)\n",
    "print(subfunc)\n",
    "print(multfunc)\n",
    "print(divfunc)\n",
    "print(powfunc)"
   ]
  },
  {
   "cell_type": "code",
   "execution_count": 50,
   "id": "f0ee9415-cbc7-44ed-9cc4-3ba1c887670e",
   "metadata": {},
   "outputs": [
    {
     "data": {
      "text/plain": [
       "3.5"
      ]
     },
     "execution_count": 50,
     "metadata": {},
     "output_type": "execute_result"
    }
   ],
   "source": [
    "np.mean(arr)"
   ]
  },
  {
   "cell_type": "code",
   "execution_count": 52,
   "id": "43a21800-c1ec-46b5-a064-67d131eb34c7",
   "metadata": {},
   "outputs": [
    {
     "data": {
      "text/plain": [
       "3.5"
      ]
     },
     "execution_count": 52,
     "metadata": {},
     "output_type": "execute_result"
    }
   ],
   "source": [
    "np.median(arr)"
   ]
  },
  {
   "cell_type": "code",
   "execution_count": 99,
   "id": "683ec4eb-c4ab-4c4f-90cd-829ed788d0ec",
   "metadata": {},
   "outputs": [
    {
     "data": {
      "text/plain": [
       "ModeResult(mode=4, count=3)"
      ]
     },
     "execution_count": 99,
     "metadata": {},
     "output_type": "execute_result"
    }
   ],
   "source": [
    "from scipy import stats\n",
    "arr = np.array([4,4,4,9,9,9,3,3,2,1])\n",
    "res = stats.mode(arr)\n",
    "res\n",
    "\n",
    "#basically it sorts the array first and then the most frequently occurred sorted element is given as mode. (here 4 < 9)"
   ]
  },
  {
   "cell_type": "code",
   "execution_count": 101,
   "id": "9179b25c-a60f-4e79-ac09-1625f03f5c9c",
   "metadata": {},
   "outputs": [
    {
     "data": {
      "text/plain": [
       "1"
      ]
     },
     "execution_count": 101,
     "metadata": {},
     "output_type": "execute_result"
    }
   ],
   "source": [
    "np.min(arr)\n"
   ]
  },
  {
   "cell_type": "code",
   "execution_count": 56,
   "id": "db96e656-6eb2-423b-b2ee-453db377f2a9",
   "metadata": {},
   "outputs": [
    {
     "data": {
      "text/plain": [
       "6"
      ]
     },
     "execution_count": 56,
     "metadata": {},
     "output_type": "execute_result"
    }
   ],
   "source": [
    "np.max(arr)\n"
   ]
  },
  {
   "cell_type": "code",
   "execution_count": 82,
   "id": "c170e376-3cc3-4c31-8db3-a71b3739ddc3",
   "metadata": {},
   "outputs": [
    {
     "name": "stdout",
     "output_type": "stream",
     "text": [
      "45\n"
     ]
    }
   ],
   "source": [
    "arr = np.array([1,23,45,60,10])\n",
    "print(arr[2])"
   ]
  },
  {
   "cell_type": "code",
   "execution_count": 84,
   "id": "9a0c364e-ceee-4f73-b4e2-cc037a13dc89",
   "metadata": {},
   "outputs": [
    {
     "name": "stdout",
     "output_type": "stream",
     "text": [
      "[23 45 60]\n"
     ]
    }
   ],
   "source": [
    "print(arr[1:4])"
   ]
  },
  {
   "cell_type": "code",
   "execution_count": 86,
   "id": "a6f4f60a-815f-46be-9472-3f611ca0917d",
   "metadata": {},
   "outputs": [],
   "source": [
    "arr = np.array([3, 1, 2])\n",
    "sorted_arr = np.sort(arr)"
   ]
  },
  {
   "cell_type": "code",
   "execution_count": 88,
   "id": "5c59e523-5664-4144-a13f-4e22e748fa95",
   "metadata": {},
   "outputs": [
    {
     "data": {
      "text/plain": [
       "array([1, 2, 3])"
      ]
     },
     "execution_count": 88,
     "metadata": {},
     "output_type": "execute_result"
    }
   ],
   "source": [
    "sorted_arr"
   ]
  },
  {
   "cell_type": "code",
   "execution_count": 92,
   "id": "2c762a0a-616f-413d-b91c-010f8ad37e9a",
   "metadata": {},
   "outputs": [
    {
     "name": "stdout",
     "output_type": "stream",
     "text": [
      "[3 1 2]\n",
      "0\n"
     ]
    }
   ],
   "source": [
    "print(arr)\n",
    "print(np.argmax(arr))  #index of max elem"
   ]
  },
  {
   "cell_type": "code",
   "execution_count": 94,
   "id": "f8d76f43-1c34-44da-9235-5dbc896cb2b7",
   "metadata": {},
   "outputs": [
    {
     "data": {
      "text/plain": [
       "1"
      ]
     },
     "execution_count": 94,
     "metadata": {},
     "output_type": "execute_result"
    }
   ],
   "source": [
    "np.argmin(arr) #index of min elem"
   ]
  },
  {
   "cell_type": "code",
   "execution_count": null,
   "id": "487d547d-5358-467c-833e-75d3ea3ce4a9",
   "metadata": {},
   "outputs": [],
   "source": []
  }
 ],
 "metadata": {
  "kernelspec": {
   "display_name": "Python 3 (ipykernel)",
   "language": "python",
   "name": "python3"
  },
  "language_info": {
   "codemirror_mode": {
    "name": "ipython",
    "version": 3
   },
   "file_extension": ".py",
   "mimetype": "text/x-python",
   "name": "python",
   "nbconvert_exporter": "python",
   "pygments_lexer": "ipython3",
   "version": "3.11.7"
  }
 },
 "nbformat": 4,
 "nbformat_minor": 5
}
